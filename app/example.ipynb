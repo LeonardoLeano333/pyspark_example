{
 "cells": [
  {
   "cell_type": "code",
   "execution_count": null,
   "id": "7e97243e-509c-423b-b4af-28fcd6d685c9",
   "metadata": {},
   "outputs": [],
   "source": [
    "from pyspark.sql import SparkSession\n",
    "\n",
    "# Create SparkSession\n",
    "spark : SparkSession =  SparkSession.builder \\\n",
    "                    .master(\"spark://172.20.0.2:7077\") \\\n",
    "                    .appName(\"example\") \\\n",
    "                    .getOrCreate()\n",
    "\n",
    "# Parallelize data and collect\n",
    "data = [0, 2, 3, 4, 6]\n",
    "rdd_a = spark.sparkContext.parallelize(data, 2)\n",
    "result = rdd_a.glom().collect() # glom ?\n"
   ]
  }
 ],
 "metadata": {
  "kernelspec": {
   "display_name": "Python 3 (ipykernel)",
   "language": "python",
   "name": "python3"
  },
  "language_info": {
   "codemirror_mode": {
    "name": "ipython",
    "version": 3
   },
   "file_extension": ".py",
   "mimetype": "text/x-python",
   "name": "python",
   "nbconvert_exporter": "python",
   "pygments_lexer": "ipython3",
   "version": "3.11.9"
  }
 },
 "nbformat": 4,
 "nbformat_minor": 5
}
